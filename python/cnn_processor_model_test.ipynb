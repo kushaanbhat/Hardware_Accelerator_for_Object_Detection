{
 "metadata": {
  "kernelspec": {
   "language": "python",
   "display_name": "Python 3",
   "name": "python3"
  },
  "language_info": {
   "name": "python",
   "version": "3.10.12",
   "mimetype": "text/x-python",
   "codemirror_mode": {
    "name": "ipython",
    "version": 3
   },
   "pygments_lexer": "ipython3",
   "nbconvert_exporter": "python",
   "file_extension": ".py"
  },
  "kaggle": {
   "accelerator": "none",
   "dataSources": [
    {
     "sourceId": 191501,
     "sourceType": "datasetVersion",
     "datasetId": 82373
    },
    {
     "sourceId": 328972,
     "sourceType": "modelInstanceVersion",
     "isSourceIdPinned": false,
     "modelInstanceId": 276021,
     "modelId": 296910
    },
    {
     "sourceId": 328989,
     "sourceType": "modelInstanceVersion",
     "isSourceIdPinned": true,
     "modelInstanceId": 276035,
     "modelId": 296924
    },
    {
     "sourceId": 330323,
     "sourceType": "modelInstanceVersion",
     "isSourceIdPinned": true,
     "modelInstanceId": 277118,
     "modelId": 298012
    },
    {
     "sourceId": 331284,
     "sourceType": "modelInstanceVersion",
     "isSourceIdPinned": true,
     "modelInstanceId": 277938,
     "modelId": 298842
    }
   ],
   "dockerImageVersionId": 30918,
   "isInternetEnabled": true,
   "language": "python",
   "sourceType": "notebook",
   "isGpuEnabled": false
  }
 },
 "nbformat_minor": 4,
 "nbformat": 4,
 "cells": [
  {
   "cell_type": "code",
   "source": [
    "import os\n",
    "import time\n",
    "\n",
    "import numpy as np\n",
    "import cv2\n",
    "import tensorflow as tf\n",
    "from tensorflow import keras\n",
    "from tensorflow.keras import layers\n",
    "\n",
    "from sklearn.model_selection import train_test_split"
   ],
   "metadata": {
    "trusted": true,
    "execution": {
     "iopub.status.busy": "2025-04-11T16:04:47.925879Z",
     "iopub.execute_input": "2025-04-11T16:04:47.926414Z",
     "iopub.status.idle": "2025-04-11T16:05:06.281099Z",
     "shell.execute_reply.started": "2025-04-11T16:04:47.926370Z",
     "shell.execute_reply": "2025-04-11T16:05:06.279939Z"
    },
    "ExecuteTime": {
     "end_time": "2025-04-29T09:11:31.805484Z",
     "start_time": "2025-04-29T09:11:29.557384Z"
    }
   },
   "outputs": [],
   "execution_count": 7
  },
  {
   "cell_type": "code",
   "source": [
    "# Dataset path in Kaggle\n",
    "dataset_path = \"C:/Users/Kushaan/Downloads/Train\"\n",
    "\n",
    "# Class labels (0 to 42) based on folder structure\n",
    "CLASS_FOLDERS = [str(i) for i in range(43)]\n",
    "\n",
    "# Function to load images from the Train directory\n",
    "def load_images(base_path):\n",
    "    images = []\n",
    "    labels = []\n",
    "\n",
    "    for class_id in CLASS_FOLDERS:\n",
    "        class_folder = os.path.join(base_path, class_id)  # e.g., /Train/0, /Train/1 ...\n",
    "        \n",
    "        if not os.path.exists(class_folder):\n",
    "            print(f\"Warning: Class folder {class_folder} does not exist. Skipping...\")\n",
    "            continue  # Skip if the folder does not exist\n",
    "        \n",
    "        for filename in os.listdir(class_folder):\n",
    "            img_path = os.path.join(class_folder, filename)\n",
    "            \n",
    "            img = cv2.imread(img_path)\n",
    "            if img is None:\n",
    "                print(f\"Warning: Could not read {img_path}\")\n",
    "                continue  # Skip unreadable images\n",
    "            \n",
    "            img = cv2.resize(img, (30, 30))  # Resize to 32x32\n",
    "            img = cv2.cvtColor(img, cv2.COLOR_BGR2RGB)  # Convert BGR to RGB\n",
    "            \n",
    "            images.append(img)\n",
    "            labels.append(int(class_id))  # Store class as integer\n",
    "    \n",
    "    return np.array(images), np.array(labels)\n",
    "\n",
    "# Load training images\n",
    "train_images, train_labels = load_images(dataset_path)\n",
    "\n",
    "# Convert labels to categorical\n",
    "num_classes = len(CLASS_FOLDERS)\n",
    "train_labels = keras.utils.to_categorical(train_labels, num_classes)\n",
    "\n",
    "# Split dataset into train & validation\n",
    "x_train, x_val, y_train, y_val = train_test_split(train_images, train_labels, test_size=0.2, random_state=42)\n",
    "\n",
    "# Define the CNN model\n",
    "def create_cnn_model(input_shape, num_classes):\n",
    "    model = keras.Sequential([\n",
    "        layers.Conv2D(32, (3, 3), activation='relu', input_shape=(30, 30, 3)),\n",
    "        layers.MaxPooling2D((2, 2)),\n",
    "        layers.Flatten(),\n",
    "        layers.Dense(43, activation='softmax')\n",
    "    ])\n",
    "    model.compile(optimizer='adam', loss='categorical_crossentropy', metrics=['accuracy'])\n",
    "    return model\n",
    "\n",
    "# Create and train the model\n",
    "input_shape = (30, 30, 3)\n",
    "model = create_cnn_model(input_shape, num_classes)\n",
    "model.summary()\n",
    "\n",
    "history = model.fit(x_train, y_train, epochs=7, validation_data=(x_val, y_val), batch_size=32)"
   ],
   "metadata": {
    "_uuid": "8f2839f25d086af736a60e9eeb907d3b93b6e0e5",
    "_cell_guid": "b1076dfc-b9ad-4769-8c92-a6c4dae69d19",
    "trusted": true,
    "execution": {
     "iopub.status.busy": "2025-04-11T16:05:06.282475Z",
     "iopub.execute_input": "2025-04-11T16:05:06.283059Z",
     "iopub.status.idle": "2025-04-11T16:15:41.382958Z",
     "shell.execute_reply.started": "2025-04-11T16:05:06.283018Z",
     "shell.execute_reply": "2025-04-11T16:15:41.381792Z"
    },
    "ExecuteTime": {
     "end_time": "2025-04-29T09:56:38.017373Z",
     "start_time": "2025-04-29T09:49:40.438479Z"
    }
   },
   "outputs": [
    {
     "name": "stdout",
     "output_type": "stream",
     "text": [
      "Model: \"sequential_2\"\n",
      "_________________________________________________________________\n",
      " Layer (type)                Output Shape              Param #   \n",
      "=================================================================\n",
      " conv2d_4 (Conv2D)           (None, 28, 28, 32)        896       \n",
      "                                                                 \n",
      " max_pooling2d_4 (MaxPoolin  (None, 14, 14, 32)        0         \n",
      " g2D)                                                            \n",
      "                                                                 \n",
      " flatten_2 (Flatten)         (None, 6272)              0         \n",
      "                                                                 \n",
      " dense_4 (Dense)             (None, 43)                269739    \n",
      "                                                                 \n",
      "=================================================================\n",
      "Total params: 270635 (1.03 MB)\n",
      "Trainable params: 270635 (1.03 MB)\n",
      "Non-trainable params: 0 (0.00 Byte)\n",
      "_________________________________________________________________\n",
      "Epoch 1/7\n",
      "WARNING:tensorflow:From C:\\Users\\Kushaan\\AppData\\Roaming\\Python\\Python311\\site-packages\\keras\\src\\utils\\tf_utils.py:492: The name tf.ragged.RaggedTensorValue is deprecated. Please use tf.compat.v1.ragged.RaggedTensorValue instead.\n",
      "\n",
      "WARNING:tensorflow:From C:\\Users\\Kushaan\\AppData\\Roaming\\Python\\Python311\\site-packages\\keras\\src\\engine\\base_layer_utils.py:384: The name tf.executing_eagerly_outside_functions is deprecated. Please use tf.compat.v1.executing_eagerly_outside_functions instead.\n",
      "\n",
      "981/981 [==============================] - 15s 14ms/step - loss: 2.1589 - accuracy: 0.7444 - val_loss: 0.7784 - val_accuracy: 0.8351\n",
      "Epoch 2/7\n",
      "981/981 [==============================] - 14s 14ms/step - loss: 0.3583 - accuracy: 0.9141 - val_loss: 0.5368 - val_accuracy: 0.8836\n",
      "Epoch 3/7\n",
      "981/981 [==============================] - 14s 14ms/step - loss: 0.2673 - accuracy: 0.9360 - val_loss: 0.6750 - val_accuracy: 0.8840\n",
      "Epoch 4/7\n",
      "981/981 [==============================] - 14s 14ms/step - loss: 0.2521 - accuracy: 0.9441 - val_loss: 0.4419 - val_accuracy: 0.9301\n",
      "Epoch 5/7\n",
      "981/981 [==============================] - 13s 13ms/step - loss: 0.2130 - accuracy: 0.9534 - val_loss: 0.5184 - val_accuracy: 0.9100\n",
      "Epoch 6/7\n",
      "981/981 [==============================] - 14s 14ms/step - loss: 0.2067 - accuracy: 0.9542 - val_loss: 0.4368 - val_accuracy: 0.9342\n",
      "Epoch 7/7\n",
      "981/981 [==============================] - 13s 13ms/step - loss: 0.1707 - accuracy: 0.9621 - val_loss: 0.7647 - val_accuracy: 0.8993\n"
     ]
    }
   ],
   "execution_count": 12
  },
  {
   "metadata": {
    "ExecuteTime": {
     "end_time": "2025-04-29T09:57:57.486844Z",
     "start_time": "2025-04-29T09:57:57.478348Z"
    }
   },
   "cell_type": "code",
   "source": [
    "image_path = '/data/00015_00000_00003.png'  # Replace with your image path\n",
    "image = cv2.imread(image_path)"
   ],
   "outputs": [],
   "execution_count": 13
  },
  {
   "metadata": {
    "ExecuteTime": {
     "end_time": "2025-04-29T10:11:15.832806Z",
     "start_time": "2025-04-29T10:11:15.825717Z"
    }
   },
   "cell_type": "code",
   "source": [
    "import cv2\n",
    "\n",
    "image_path = 'C:/Users/Kushaan/PycharmProjects/cnn_hw_acc/data/00015_00000_00003.png' # replace with actual path\n",
    "image = cv2.imread(image_path)\n",
    "\n",
    "if image is None:\n",
    "    print(\"Error: Image not loaded. Check the path or file format.\")\n",
    "else:\n",
    "    image = cv2.resize(image, (30, 30))\n",
    "    print(\"Image loaded and resized.\")\n"
   ],
   "outputs": [
    {
     "name": "stdout",
     "output_type": "stream",
     "text": [
      "Image loaded and resized.\n"
     ]
    }
   ],
   "execution_count": 30
  },
  {
   "metadata": {
    "ExecuteTime": {
     "end_time": "2025-04-29T10:13:17.156612Z",
     "start_time": "2025-04-29T10:13:16.957149Z"
    }
   },
   "cell_type": "code",
   "source": [
    "start = time.time()\n",
    "image = np.expand_dims(image, axis=0)\n",
    "prediction = model.predict(image)\n",
    "end = time.time()\n",
    "predicted_class = np.argmax(prediction)\n"
   ],
   "outputs": [
    {
     "name": "stdout",
     "output_type": "stream",
     "text": [
      "1/1 [==============================] - 0s 114ms/step\n"
     ]
    }
   ],
   "execution_count": 35
  },
  {
   "metadata": {
    "ExecuteTime": {
     "end_time": "2025-04-29T10:12:38.776108Z",
     "start_time": "2025-04-29T10:12:38.771103Z"
    }
   },
   "cell_type": "code",
   "source": "print(f\"🔹0th Prediction: {predicted_class}\")",
   "outputs": [
    {
     "name": "stdout",
     "output_type": "stream",
     "text": [
      "🔹0th Prediction: 18\n"
     ]
    }
   ],
   "execution_count": 34
  },
  {
   "metadata": {
    "ExecuteTime": {
     "end_time": "2025-04-29T10:13:50.576715Z",
     "start_time": "2025-04-29T10:13:50.568855Z"
    }
   },
   "cell_type": "code",
   "source": [
    "delay = end - start\n",
    "print(delay)"
   ],
   "outputs": [
    {
     "name": "stdout",
     "output_type": "stream",
     "text": [
      "0.19547605514526367\n"
     ]
    }
   ],
   "execution_count": 36
  },
  {
   "metadata": {
    "ExecuteTime": {
     "end_time": "2025-04-29T10:24:11.665619Z",
     "start_time": "2025-04-29T10:24:11.659633Z"
    }
   },
   "cell_type": "code",
   "source": [
    "delay_Processor = delay\n",
    "delay_CNN_IP = 0.017092227935791016"
   ],
   "outputs": [],
   "execution_count": 37
  },
  {
   "metadata": {
    "ExecuteTime": {
     "end_time": "2025-04-29T10:25:06.482536Z",
     "start_time": "2025-04-29T10:25:06.477238Z"
    }
   },
   "cell_type": "code",
   "source": [
    "improved_time = delay_Processor/delay_CNN_IP\n",
    "print(improved_time)"
   ],
   "outputs": [
    {
     "name": "stdout",
     "output_type": "stream",
     "text": [
      "11.436546240758823\n"
     ]
    }
   ],
   "execution_count": 38
  },
  {
   "metadata": {
    "ExecuteTime": {
     "end_time": "2025-04-29T10:26:44.095748Z",
     "start_time": "2025-04-29T10:26:44.090004Z"
    }
   },
   "cell_type": "code",
   "source": [
    "percentage_improvement = ((delay_Processor-delay_CNN_IP)/delay_Processor)*100\n",
    "print(percentage_improvement)"
   ],
   "outputs": [
    {
     "name": "stdout",
     "output_type": "stream",
     "text": [
      "91.25610145800758\n"
     ]
    }
   ],
   "execution_count": 40
  }
 ]
}
